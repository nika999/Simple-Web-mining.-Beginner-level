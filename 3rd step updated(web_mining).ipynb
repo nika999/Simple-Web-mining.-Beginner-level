{
 "cells": [
  {
   "cell_type": "markdown",
   "metadata": {},
   "source": [
    "Here we will unload data from thehttps://kudago.com/msk/places/ which will contain title and time of articles. This data is stored in their own links. So we will gather them and after go through them."
   ]
  },
  {
   "cell_type": "code",
   "execution_count": 8,
   "metadata": {},
   "outputs": [],
   "source": [
    "import requests\n",
    "from requests import get\n",
    "from bs4 import BeautifulSoup\n",
    "import numpy as np\n",
    "import urllib3\n",
    "\n",
    "from time import sleep\n",
    "from random import randint"
   ]
  },
  {
   "cell_type": "code",
   "execution_count": 9,
   "metadata": {},
   "outputs": [],
   "source": [
    "from selenium import webdriver\n",
    "links =[]\n",
    "pages = np.arange(1, 2,1)\n",
    "http = urllib3.PoolManager()"
   ]
  },
  {
   "cell_type": "markdown",
   "metadata": {},
   "source": [
    "Here we gather links on articles:"
   ]
  },
  {
   "cell_type": "code",
   "execution_count": 10,
   "metadata": {},
   "outputs": [
    {
     "name": "stdout",
     "output_type": "stream",
     "text": [
      "https://online.kudago.com/place/attraktsion-metpet/\n",
      "https://kudago.com/msk/place/strelkovyj-klub-labirint/\n",
      "https://kudago.com/msk/place/restoran-7-nebo/\n",
      "https://kudago.com/msk/place/attraktsion-show-today/\n",
      "https://kudago.com/msk/place/tir-medved/\n",
      "https://kudago.com/msk/place/attraktsion-party-hard/\n",
      "https://kudago.com/msk/place/attraktsion-zuart/\n",
      "https://kudago.com/msk/place/attraktsion-skazki-i-razvlecheniya/\n",
      "https://kudago.com/msk/place/kinoteatr-lumiere-hall/\n",
      "https://kudago.com/msk/place/muzej-muzej-emotsij/\n",
      "https://kudago.com/msk/place/kinoteatr-sekret/\n",
      "https://kudago.com/msk/place/kubikulum-igra-kvest/\n",
      "https://kudago.com/msk/place/proekt-progulka-v-temnote/\n",
      "https://kudago.com/msk/place/katok-v-sadu-ermitazh/\n",
      "https://kudago.com/msk/place/sportivnoe-sooruzhenie-the-rink/\n",
      "https://kudago.com/msk/place/attraktsion-stantsiya-2025/\n",
      "https://kudago.com/msk/place/centr-mars/\n",
      "https://kudago.com/msk/place/bar-1929/\n",
      "https://kudago.com/msk/place/attraktsion-arcadia/\n",
      "https://kudago.com/msk/place/attraktsion-igloobar-and-iglooloft/\n",
      "https://kudago.com/msk/place/akvapark-moreon/\n",
      "https://kudago.com/msk/place/art-tsentr-tsentr-iskusstv-moskva/\n",
      "https://kudago.com/msk/place/gostinitsa-orlovskij/\n",
      "https://kudago.com/msk/place/bar-ruki-vverh/\n",
      "https://kudago.com/msk/place/attraktsion-round-one/\n",
      "https://kudago.com/msk/place/muzej-igrovyh-avtomatov/\n",
      "https://kudago.com/msk/place/kvest-komnata-5komnat/\n",
      "https://kudago.com/msk/place/interesnoe-mesto-moskvarium/\n"
     ]
    }
   ],
   "source": [
    "for page in pages:\n",
    "    page = http.request('GET','https://kudago.com/msk/places/')\n",
    "    soup = BeautifulSoup(page.data, 'html.parser')\n",
    "    # parts of links are stored here:\n",
    "    links_href = soup.find_all('a', class_='post-title-link', href =True)\n",
    "\n",
    "    sleep(randint(2,10))\n",
    "    \n",
    "    for link1 in links_href:\n",
    "        # Put it together:\n",
    "        name1 = link1.get('href')\n",
    "        print(name1)\n",
    "        links.append(name1)"
   ]
  },
  {
   "cell_type": "code",
   "execution_count": 11,
   "metadata": {},
   "outputs": [
    {
     "data": {
      "text/plain": [
       "28"
      ]
     },
     "execution_count": 11,
     "metadata": {},
     "output_type": "execute_result"
    }
   ],
   "source": [
    "len(links)"
   ]
  },
  {
   "cell_type": "markdown",
   "metadata": {},
   "source": [
    "And gather whatever you need using links we got before:"
   ]
  },
  {
   "cell_type": "code",
   "execution_count": 12,
   "metadata": {},
   "outputs": [],
   "source": [
    "title =[]\n",
    "moreinform =[]\n",
    "for i in range(len(links)):\n",
    "    i = http.request('GET', links[i])\n",
    "    soup = BeautifulSoup(i.data, 'html.parser')\n",
    "    man_h1 = soup.find_all('h1', class_=\"post-big-title\")\n",
    "    time_ = soup.find_all('time',class_=\"post-pubdate\")\n",
    "    \n",
    "    sleep(randint(2,10))\n",
    "    \n",
    "    for link2 in man_h1:\n",
    "        name2 = link2.get_text()\n",
    "        title.append(name2)\n",
    "    \n",
    "    for link3 in time_:\n",
    "        name3 = link3.get_text()\n",
    "        moreinform.append(name3)"
   ]
  },
  {
   "cell_type": "markdown",
   "metadata": {},
   "source": [
    "Here we are!"
   ]
  },
  {
   "cell_type": "code",
   "execution_count": 14,
   "metadata": {},
   "outputs": [
    {
     "data": {
      "text/html": [
       "<div>\n",
       "<style scoped>\n",
       "    .dataframe tbody tr th:only-of-type {\n",
       "        vertical-align: middle;\n",
       "    }\n",
       "\n",
       "    .dataframe tbody tr th {\n",
       "        vertical-align: top;\n",
       "    }\n",
       "\n",
       "    .dataframe thead th {\n",
       "        text-align: right;\n",
       "    }\n",
       "</style>\n",
       "<table border=\"1\" class=\"dataframe\">\n",
       "  <thead>\n",
       "    <tr style=\"text-align: right;\">\n",
       "      <th></th>\n",
       "      <th>Title</th>\n",
       "      <th>Time</th>\n",
       "    </tr>\n",
       "  </thead>\n",
       "  <tbody>\n",
       "    <tr>\n",
       "      <th>0</th>\n",
       "      <td>Сервис для поиска собак и кошек из приютов MetPet</td>\n",
       "      <td>24 июля 2020 12:12</td>\n",
       "    </tr>\n",
       "    <tr>\n",
       "      <th>1</th>\n",
       "      <td>Стрелковый клуб «Лабиринт»</td>\n",
       "      <td>10 марта 2021 9:43</td>\n",
       "    </tr>\n",
       "    <tr>\n",
       "      <th>2</th>\n",
       "      <td>Кафе «7 небо»</td>\n",
       "      <td>10 декабря 2021 16:43</td>\n",
       "    </tr>\n",
       "    <tr>\n",
       "      <th>3</th>\n",
       "      <td>Развлекательный проект Show Today</td>\n",
       "      <td>3 сентября 2020 13:04</td>\n",
       "    </tr>\n",
       "    <tr>\n",
       "      <th>4</th>\n",
       "      <td>Лазертаг-клуб «Медведь»</td>\n",
       "      <td>15 ноября 2021 18:14</td>\n",
       "    </tr>\n",
       "    <tr>\n",
       "      <th>5</th>\n",
       "      <td>Лофт-пространство Рarty Hard</td>\n",
       "      <td>18 июня 2021 16:41</td>\n",
       "    </tr>\n",
       "    <tr>\n",
       "      <th>6</th>\n",
       "      <td>Студия рисования и живописи ZuART</td>\n",
       "      <td>7 июля 2021 9:35</td>\n",
       "    </tr>\n",
       "    <tr>\n",
       "      <th>7</th>\n",
       "      <td>Новогодние праздники на Арбате, 16</td>\n",
       "      <td>29 октября 2021 18:05</td>\n",
       "    </tr>\n",
       "    <tr>\n",
       "      <th>8</th>\n",
       "      <td>Креативное пространство «Люмьер-Холл»</td>\n",
       "      <td>10 августа 2021 18:48</td>\n",
       "    </tr>\n",
       "    <tr>\n",
       "      <th>9</th>\n",
       "      <td>Выставка эмоций</td>\n",
       "      <td>16 сентября 2019 21:58</td>\n",
       "    </tr>\n",
       "    <tr>\n",
       "      <th>10</th>\n",
       "      <td>Частный кинотеатр «Секрет»</td>\n",
       "      <td>21 января 2020 16:28</td>\n",
       "    </tr>\n",
       "    <tr>\n",
       "      <th>11</th>\n",
       "      <td>«Кубикулум» — игра-квест</td>\n",
       "      <td>1 августа 2019 11:47</td>\n",
       "    </tr>\n",
       "    <tr>\n",
       "      <th>12</th>\n",
       "      <td>Cенсорная экспозиция «Прогулка в темноте»</td>\n",
       "      <td>3 сентября 2019 18:44</td>\n",
       "    </tr>\n",
       "    <tr>\n",
       "      <th>13</th>\n",
       "      <td>Каток в саду «Эрмитаж»</td>\n",
       "      <td>29 ноября 2021 19:45</td>\n",
       "    </tr>\n",
       "    <tr>\n",
       "      <th>14</th>\n",
       "      <td>Ледовый комплекс The Rink</td>\n",
       "      <td>23 декабря 2018 18:53</td>\n",
       "    </tr>\n",
       "    <tr>\n",
       "      <th>15</th>\n",
       "      <td>Развлекательно-игровой центр SТАНЦИЯ 2025</td>\n",
       "      <td>23 ноября 2020 16:57</td>\n",
       "    </tr>\n",
       "    <tr>\n",
       "      <th>16</th>\n",
       "      <td>Центр современного искусства «МАРС»</td>\n",
       "      <td>24 февраля 2021 16:45</td>\n",
       "    </tr>\n",
       "    <tr>\n",
       "      <th>17</th>\n",
       "      <td>Бар «1929»</td>\n",
       "      <td>14 февраля 2018 10:54</td>\n",
       "    </tr>\n",
       "    <tr>\n",
       "      <th>18</th>\n",
       "      <td>Арена виртуальной реальности Arcadia</td>\n",
       "      <td>29 октября 2019 17:01</td>\n",
       "    </tr>\n",
       "    <tr>\n",
       "      <th>19</th>\n",
       "      <td>Пространство для мероприятий и праздников Iglo...</td>\n",
       "      <td>10 сентября 2021 14:46</td>\n",
       "    </tr>\n",
       "    <tr>\n",
       "      <th>20</th>\n",
       "      <td>Комплекс водных развлечений «Мореон»</td>\n",
       "      <td>13 августа 2019 17:00</td>\n",
       "    </tr>\n",
       "    <tr>\n",
       "      <th>21</th>\n",
       "      <td>«Центр искусств. Москва»</td>\n",
       "      <td>5 августа 2021 18:36</td>\n",
       "    </tr>\n",
       "    <tr>\n",
       "      <th>22</th>\n",
       "      <td>Парк-отель «Орловский»</td>\n",
       "      <td>17 ноября 2021 18:17</td>\n",
       "    </tr>\n",
       "    <tr>\n",
       "      <th>23</th>\n",
       "      <td>«Руки ВВерх! Бар»</td>\n",
       "      <td>18 августа 2020 19:16</td>\n",
       "    </tr>\n",
       "    <tr>\n",
       "      <th>24</th>\n",
       "      <td>Японский спортивно-развлекательный центр Round...</td>\n",
       "      <td>9 ноября 2021 14:01</td>\n",
       "    </tr>\n",
       "    <tr>\n",
       "      <th>25</th>\n",
       "      <td>Музей советских игровых автоматов</td>\n",
       "      <td>11 мая 2021 12:44</td>\n",
       "    </tr>\n",
       "    <tr>\n",
       "      <th>26</th>\n",
       "      <td>Квест-игра «Пять комнат»</td>\n",
       "      <td>26 ноября 2021 12:16</td>\n",
       "    </tr>\n",
       "    <tr>\n",
       "      <th>27</th>\n",
       "      <td>«Москвариум»</td>\n",
       "      <td>19 февраля 2021 14:45</td>\n",
       "    </tr>\n",
       "  </tbody>\n",
       "</table>\n",
       "</div>"
      ],
      "text/plain": [
       "                                                Title                    Time\n",
       "0   Сервис для поиска собак и кошек из приютов MetPet      24 июля 2020 12:12\n",
       "1                          Стрелковый клуб «Лабиринт»      10 марта 2021 9:43\n",
       "2                                       Кафе «7 небо»   10 декабря 2021 16:43\n",
       "3                   Развлекательный проект Show Today   3 сентября 2020 13:04\n",
       "4                             Лазертаг-клуб «Медведь»    15 ноября 2021 18:14\n",
       "5                        Лофт-пространство Рarty Hard      18 июня 2021 16:41\n",
       "6                   Студия рисования и живописи ZuART        7 июля 2021 9:35\n",
       "7                  Новогодние праздники на Арбате, 16   29 октября 2021 18:05\n",
       "8               Креативное пространство «Люмьер-Холл»   10 августа 2021 18:48\n",
       "9                                     Выставка эмоций  16 сентября 2019 21:58\n",
       "10                         Частный кинотеатр «Секрет»    21 января 2020 16:28\n",
       "11                           «Кубикулум» — игра-квест    1 августа 2019 11:47\n",
       "12          Cенсорная экспозиция «Прогулка в темноте»   3 сентября 2019 18:44\n",
       "13                             Каток в саду «Эрмитаж»    29 ноября 2021 19:45\n",
       "14                          Ледовый комплекс The Rink   23 декабря 2018 18:53\n",
       "15          Развлекательно-игровой центр SТАНЦИЯ 2025    23 ноября 2020 16:57\n",
       "16                Центр современного искусства «МАРС»   24 февраля 2021 16:45\n",
       "17                                         Бар «1929»   14 февраля 2018 10:54\n",
       "18               Арена виртуальной реальности Arcadia   29 октября 2019 17:01\n",
       "19  Пространство для мероприятий и праздников Iglo...  10 сентября 2021 14:46\n",
       "20               Комплекс водных развлечений «Мореон»   13 августа 2019 17:00\n",
       "21                           «Центр искусств. Москва»    5 августа 2021 18:36\n",
       "22                             Парк-отель «Орловский»    17 ноября 2021 18:17\n",
       "23                                  «Руки ВВерх! Бар»   18 августа 2020 19:16\n",
       "24  Японский спортивно-развлекательный центр Round...     9 ноября 2021 14:01\n",
       "25                  Музей советских игровых автоматов       11 мая 2021 12:44\n",
       "26                           Квест-игра «Пять комнат»    26 ноября 2021 12:16\n",
       "27                                       «Москвариум»   19 февраля 2021 14:45"
      ]
     },
     "execution_count": 14,
     "metadata": {},
     "output_type": "execute_result"
    }
   ],
   "source": [
    "import pandas as pd\n",
    "df = pd.DataFrame({'Title':title,'Time':moreinform})\n",
    "df"
   ]
  },
  {
   "cell_type": "code",
   "execution_count": 15,
   "metadata": {},
   "outputs": [],
   "source": [
    "df.to_csv('kudago.csv')"
   ]
  },
  {
   "cell_type": "code",
   "execution_count": null,
   "metadata": {},
   "outputs": [],
   "source": []
  }
 ],
 "metadata": {
  "kernelspec": {
   "display_name": "Python 3",
   "language": "python",
   "name": "python3"
  },
  "language_info": {
   "codemirror_mode": {
    "name": "ipython",
    "version": 3
   },
   "file_extension": ".py",
   "mimetype": "text/x-python",
   "name": "python",
   "nbconvert_exporter": "python",
   "pygments_lexer": "ipython3",
   "version": "3.9.5"
  }
 },
 "nbformat": 4,
 "nbformat_minor": 4
}
