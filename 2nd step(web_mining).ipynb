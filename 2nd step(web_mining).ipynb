{
 "cells": [
  {
   "cell_type": "markdown",
   "metadata": {},
   "source": [
    "Here we will unload data from the https://www.work.ua/jobs-kyiv-data+analyst/ which will contain job title and hiring company.\n",
    "\n",
    "In order to get all the data on request from this site, we will have to upload data from several pages.\n",
    "\n",
    "We will use:\n",
    "\n",
    "• Pandas for data manipulating.\n",
    "\n",
    "• The Requests library for making HTTP requests in Python. It abstracts the complexities of making requests behind a beautiful, simple API so that you can focus on interacting with services and consuming data in your application.\n",
    "\n",
    "• The Beautiful Soup package is used to extract data from html files.\n",
    "\n",
    "• Numpy for multidimensional arrays.\n",
    "\n",
    "• Time for The sleep() function which will control the loop’s rate by pausing the execution of the loop for a specified amount of time.\n",
    "\n",
    "• Random for The randint(2,10) function which will vary the amount of waiting time between requests for a number between 2-10 seconds.\n"
   ]
  },
  {
   "cell_type": "code",
   "execution_count": 173,
   "metadata": {},
   "outputs": [],
   "source": [
    "import requests\n",
    "from requests import get\n",
    "from bs4 import BeautifulSoup\n",
    "import numpy as np\n",
    "\n",
    "from time import sleep\n",
    "from random import randint"
   ]
  },
  {
   "attachments": {
    "image.png": {
     "image/png": "[encoded data removed]"
    }
   },
   "cell_type": "markdown",
   "metadata": {},
   "source": [
    "Let’s go to the URL of the page we're scraping.\n",
    "Now, let’s click on the next page and see what page 3's  URL looks like:\n",
    "![image.png](attachment:image.png)\n",
    "\n",
    "\n"
   ]
  },
  {
   "attachments": {},
   "cell_type": "markdown",
   "metadata": {},
   "source": [
    "We notice ?page=3  is added into the URL when we go to page 3.\n",
    "\n",
    "This information will help us tell our loop how to go to the next page to scrape."
   ]
  },
  {
   "cell_type": "markdown",
   "metadata": {},
   "source": [
    "Each page’s URL follows a certain logic as the web pages change. To make the URL requests we’d have to vary the value of the page parameter, like this:"
   ]
  },
  {
   "cell_type": "code",
   "execution_count": 174,
   "metadata": {},
   "outputs": [],
   "source": [
    "titles =[]\n",
    "companies =[]\n",
    "pages = np.arange(1, 8,1)"
   ]
  },
  {
   "cell_type": "markdown",
   "metadata": {},
   "source": [
    "Pages is the variable we create to store our page-parameter function for our loop to iterate through\n",
    "np.arrange(1,8,1) is a function in the NumPy Python library, and it takes four arguments — but we’re only using the first three which are: start, stop, and step. step is the number that defines the spacing between each. So: Start at 1, stop at 8, and step by 1."
   ]
  },
  {
   "cell_type": "markdown",
   "metadata": {},
   "source": [
    "Inside this new loop is where we’ll request our new URLs, add our html_soup (helps us parse the HTML files)."
   ]
  },
  {
   "cell_type": "code",
   "execution_count": 175,
   "metadata": {},
   "outputs": [],
   "source": [
    "# Looping Through Each Page:\n",
    "\n",
    "for page in pages:\n",
    "    page = requests.get(\"https://www.work.ua/jobs-kyiv-data+analyst/?page=\" + str(page))\n",
    "    soup = BeautifulSoup(page.text, 'html.parser')\n",
    "    job_h2 = soup.find_all('h2')\n",
    "    company = soup.find_all('div', class_=\"add-top-xs\")\n",
    "    \n",
    "    #The sleep() function which will control the loop’s rate by pausing the execution of the loop for a specified amount of time.\n",
    "    \n",
    "    #The randint(2,10) function will vary the amount of waiting time between requests for a number between 2-10 seconds.\n",
    "    #You can change these parameters to any that you like.\n",
    "    \n",
    "    sleep(randint(2,10))\n",
    "    \n",
    "    for link1 in job_h2:\n",
    "        name1 = link1.get_text()\n",
    "        titles.append(name1)\n",
    "        \n",
    "    for link2 in company:\n",
    "        name2 = link2.get_text()\n",
    "        companies.append(name2)\n",
    "        \n",
    "    "
   ]
  },
  {
   "cell_type": "markdown",
   "metadata": {},
   "source": [
    "Here we clean our lists items:"
   ]
  },
  {
   "cell_type": "code",
   "execution_count": 176,
   "metadata": {},
   "outputs": [
    {
     "data": {
      "text/plain": [
       "['Oracle DBA, Database Administrator',\n",
       " 'Аналитик баз данных',\n",
       " 'BI, Data Analyst',\n",
       " 'Data Analyst',\n",
       " 'MS SQL DBA',\n",
       " 'Data Analyst (BI/Reporting)',\n",
       " 'Java, JavaScript developer, Data Analyst',\n",
       " 'Data Scientist',\n",
       " 'Data analyst',\n",
       " 'Аналітик консолідованої інформації']"
      ]
     },
     "execution_count": 176,
     "metadata": {},
     "output_type": "execute_result"
    }
   ],
   "source": [
    "titles = list(map(str.strip,titles))\n",
    "companies = list(map(str.strip,companies))\n",
    "titles =list(filter(lambda a: a != 'Сподобалися результати пошуку?', titles))\n",
    "titles[0:10]"
   ]
  },
  {
   "cell_type": "markdown",
   "metadata": {},
   "source": [
    "Create dataframe and save it as csv file."
   ]
  },
  {
   "cell_type": "code",
   "execution_count": 170,
   "metadata": {},
   "outputs": [],
   "source": [
    "df = pd.DataFrame({'Job Title':titles,'Companies':companies})\n",
    "df.to_csv(r'C:\\Users\\jobs.csv', encoding='utf-16')"
   ]
  },
  {
   "cell_type": "code",
   "execution_count": 168,
   "metadata": {},
   "outputs": [
    {
     "data": {
      "text/html": [
       "<div>\n",
       "<style scoped>\n",
       "    .dataframe tbody tr th:only-of-type {\n",
       "        vertical-align: middle;\n",
       "    }\n",
       "\n",
       "    .dataframe tbody tr th {\n",
       "        vertical-align: top;\n",
       "    }\n",
       "\n",
       "    .dataframe thead th {\n",
       "        text-align: right;\n",
       "    }\n",
       "</style>\n",
       "<table border=\"1\" class=\"dataframe\">\n",
       "  <thead>\n",
       "    <tr style=\"text-align: right;\">\n",
       "      <th></th>\n",
       "      <th>Job Title</th>\n",
       "      <th>Companies</th>\n",
       "    </tr>\n",
       "  </thead>\n",
       "  <tbody>\n",
       "    <tr>\n",
       "      <th>0</th>\n",
       "      <td>BI, Data Analyst</td>\n",
       "      <td>Blackstone System limited · Київ · 1,5 км від ...</td>\n",
       "    </tr>\n",
       "    <tr>\n",
       "      <th>1</th>\n",
       "      <td>Data Analyst</td>\n",
       "      <td>OLX  · Київ · 3,8 км від центру</td>\n",
       "    </tr>\n",
       "    <tr>\n",
       "      <th>2</th>\n",
       "      <td>MS SQL DBA</td>\n",
       "      <td>Укрпошта  · VIP · Київ · 0,1 км від центру</td>\n",
       "    </tr>\n",
       "    <tr>\n",
       "      <th>3</th>\n",
       "      <td>Oracle DBA, Database Administrator</td>\n",
       "      <td>Dukascopy Bank SA  · Київ</td>\n",
       "    </tr>\n",
       "    <tr>\n",
       "      <th>4</th>\n",
       "      <td>Аналитик баз данных</td>\n",
       "      <td>Замогильна А.В., ФОП  · Київ</td>\n",
       "    </tr>\n",
       "    <tr>\n",
       "      <th>...</th>\n",
       "      <td>...</td>\n",
       "      <td>...</td>\n",
       "    </tr>\n",
       "    <tr>\n",
       "      <th>76</th>\n",
       "      <td>Аналитик консолидированной информации</td>\n",
       "      <td>Sapiens  · Київ</td>\n",
       "    </tr>\n",
       "    <tr>\n",
       "      <th>77</th>\n",
       "      <td>Data scientist</td>\n",
       "      <td>Fozzy Group Логістика  · VIP · Київ · 5,5 км в...</td>\n",
       "    </tr>\n",
       "    <tr>\n",
       "      <th>78</th>\n",
       "      <td>Администратор отдела сбора и анализа данных, а...</td>\n",
       "      <td>Visotsky Consulting CIS  · Київ</td>\n",
       "    </tr>\n",
       "    <tr>\n",
       "      <th>79</th>\n",
       "      <td>Senior Data Scientist (NLP)</td>\n",
       "      <td>Turnitin  · Київ</td>\n",
       "    </tr>\n",
       "    <tr>\n",
       "      <th>80</th>\n",
       "      <td>Аналитик консолидированной информации</td>\n",
       "      <td>Эвотерра Азот  · Київ · 2,2 км від центру</td>\n",
       "    </tr>\n",
       "  </tbody>\n",
       "</table>\n",
       "<p>81 rows × 2 columns</p>\n",
       "</div>"
      ],
      "text/plain": [
       "                                            Job Title  \\\n",
       "0                                    BI, Data Analyst   \n",
       "1                                        Data Analyst   \n",
       "2                                          MS SQL DBA   \n",
       "3                  Oracle DBA, Database Administrator   \n",
       "4                                 Аналитик баз данных   \n",
       "..                                                ...   \n",
       "76              Аналитик консолидированной информации   \n",
       "77                                     Data scientist   \n",
       "78  Администратор отдела сбора и анализа данных, а...   \n",
       "79                        Senior Data Scientist (NLP)   \n",
       "80              Аналитик консолидированной информации   \n",
       "\n",
       "                                            Companies  \n",
       "0   Blackstone System limited · Київ · 1,5 км від ...  \n",
       "1                     OLX  · Київ · 3,8 км від центру  \n",
       "2          Укрпошта  · VIP · Київ · 0,1 км від центру  \n",
       "3                           Dukascopy Bank SA  · Київ  \n",
       "4                        Замогильна А.В., ФОП  · Київ  \n",
       "..                                                ...  \n",
       "76                                    Sapiens  · Київ  \n",
       "77  Fozzy Group Логістика  · VIP · Київ · 5,5 км в...  \n",
       "78                    Visotsky Consulting CIS  · Київ  \n",
       "79                                   Turnitin  · Київ  \n",
       "80          Эвотерра Азот  · Київ · 2,2 км від центру  \n",
       "\n",
       "[81 rows x 2 columns]"
      ]
     },
     "execution_count": 168,
     "metadata": {},
     "output_type": "execute_result"
    }
   ],
   "source": [
    "df"
   ]
  }
 ],
 "metadata": {
  "kernelspec": {
   "display_name": "Python 3",
   "language": "python",
   "name": "python3"
  }
 },
 "nbformat": 4,
 "nbformat_minor": 4
}
